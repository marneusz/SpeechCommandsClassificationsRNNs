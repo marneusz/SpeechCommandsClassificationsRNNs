{
 "cells": [
  {
   "cell_type": "code",
   "execution_count": 23,
   "metadata": {},
   "outputs": [],
   "source": [
    "import librosa\n",
    "import os\n",
    "import json\n",
    "import pickle\n",
    "import zipfile\n",
    "import numpy as np\n",
    "from scipy.fftpack import fft\n",
    "from scipy import signal\n",
    "from scipy.io import wavfile\n",
    "import pandas as pd\n",
    "from tqdm.notebook import tqdm \n",
    "import matplotlib.pyplot as plt\n",
    "import tensorflow as tf\n",
    "from tensorflow.keras import Sequential\n",
    "from tensorflow.keras.layers import SimpleRNN, Dropout, Dense, Activation, BatchNormalization, GRU\n",
    "from sklearn.preprocessing import OneHotEncoder\n",
    "from sklearn.model_selection import train_test_split\n",
    "from tensorflow.keras.callbacks import EarlyStopping\n",
    "from tensorflow.keras.regularizers import l2, l1"
   ]
  },
  {
   "cell_type": "code",
   "execution_count": 2,
   "metadata": {},
   "outputs": [
    {
     "data": {
      "text/html": [
       "<div>\n",
       "<style scoped>\n",
       "    .dataframe tbody tr th:only-of-type {\n",
       "        vertical-align: middle;\n",
       "    }\n",
       "\n",
       "    .dataframe tbody tr th {\n",
       "        vertical-align: top;\n",
       "    }\n",
       "\n",
       "    .dataframe thead th {\n",
       "        text-align: right;\n",
       "    }\n",
       "</style>\n",
       "<table border=\"1\" class=\"dataframe\">\n",
       "  <thead>\n",
       "    <tr style=\"text-align: right;\">\n",
       "      <th></th>\n",
       "      <th>path</th>\n",
       "      <th>label</th>\n",
       "    </tr>\n",
       "  </thead>\n",
       "  <tbody>\n",
       "    <tr>\n",
       "      <th>0</th>\n",
       "      <td>train/audio\\bed\\00176480_nohash_0.wav</td>\n",
       "      <td>train</td>\n",
       "    </tr>\n",
       "    <tr>\n",
       "      <th>1</th>\n",
       "      <td>train/audio\\bed\\004ae714_nohash_0.wav</td>\n",
       "      <td>train</td>\n",
       "    </tr>\n",
       "    <tr>\n",
       "      <th>2</th>\n",
       "      <td>train/audio\\bed\\004ae714_nohash_1.wav</td>\n",
       "      <td>train</td>\n",
       "    </tr>\n",
       "    <tr>\n",
       "      <th>3</th>\n",
       "      <td>train/audio\\bed\\00f0204f_nohash_0.wav</td>\n",
       "      <td>train</td>\n",
       "    </tr>\n",
       "    <tr>\n",
       "      <th>4</th>\n",
       "      <td>train/audio\\bed\\00f0204f_nohash_1.wav</td>\n",
       "      <td>train</td>\n",
       "    </tr>\n",
       "    <tr>\n",
       "      <th>...</th>\n",
       "      <td>...</td>\n",
       "      <td>...</td>\n",
       "    </tr>\n",
       "    <tr>\n",
       "      <th>64722</th>\n",
       "      <td>train/audio\\_background_noise_\\dude_miaowing.wav</td>\n",
       "      <td>train</td>\n",
       "    </tr>\n",
       "    <tr>\n",
       "      <th>64723</th>\n",
       "      <td>train/audio\\_background_noise_\\exercise_bike.wav</td>\n",
       "      <td>train</td>\n",
       "    </tr>\n",
       "    <tr>\n",
       "      <th>64724</th>\n",
       "      <td>train/audio\\_background_noise_\\pink_noise.wav</td>\n",
       "      <td>train</td>\n",
       "    </tr>\n",
       "    <tr>\n",
       "      <th>64725</th>\n",
       "      <td>train/audio\\_background_noise_\\running_tap.wav</td>\n",
       "      <td>train</td>\n",
       "    </tr>\n",
       "    <tr>\n",
       "      <th>64726</th>\n",
       "      <td>train/audio\\_background_noise_\\white_noise.wav</td>\n",
       "      <td>train</td>\n",
       "    </tr>\n",
       "  </tbody>\n",
       "</table>\n",
       "<p>64727 rows × 2 columns</p>\n",
       "</div>"
      ],
      "text/plain": [
       "                                                   path  label\n",
       "0                 train/audio\\bed\\00176480_nohash_0.wav  train\n",
       "1                 train/audio\\bed\\004ae714_nohash_0.wav  train\n",
       "2                 train/audio\\bed\\004ae714_nohash_1.wav  train\n",
       "3                 train/audio\\bed\\00f0204f_nohash_0.wav  train\n",
       "4                 train/audio\\bed\\00f0204f_nohash_1.wav  train\n",
       "...                                                 ...    ...\n",
       "64722  train/audio\\_background_noise_\\dude_miaowing.wav  train\n",
       "64723  train/audio\\_background_noise_\\exercise_bike.wav  train\n",
       "64724     train/audio\\_background_noise_\\pink_noise.wav  train\n",
       "64725    train/audio\\_background_noise_\\running_tap.wav  train\n",
       "64726    train/audio\\_background_noise_\\white_noise.wav  train\n",
       "\n",
       "[64727 rows x 2 columns]"
      ]
     },
     "execution_count": 2,
     "metadata": {},
     "output_type": "execute_result"
    }
   ],
   "source": [
    "paths = [os.path.join(dp, f) for dp, dn, fn in os.walk('train/audio') for f in fn if f[-4:]=='.wav']\n",
    "paths = pd.DataFrame(paths, columns=['path']) # .sample(n=1000).reset_index(drop=True)\n",
    "paths['label'] = paths['path'].apply(lambda x: x.split('/')[-2])\n",
    "paths"
   ]
  },
  {
   "cell_type": "code",
   "execution_count": 3,
   "metadata": {},
   "outputs": [],
   "source": [
    "def audio2mel(path):\n",
    "    y, sr = librosa.core.load(path=path)\n",
    "    if len(y) > sr: # we set all to have lenght equal to 1 second \n",
    "        y = y[:sr] \n",
    "    else: # pad blank\n",
    "        padding = sr - len(y)\n",
    "        offset = padding // 2 \n",
    "        y = np.pad(y, (offset, sr - len(y) - offset), 'constant')\n",
    "    mel = librosa.feature.melspectrogram(y=y, sr=sr)\n",
    "    return librosa.power_to_db(mel, ref= np.max).astype(np.float) \n",
    "\n",
    "def convert_wav_to_image(df):\n",
    "    X = []\n",
    "    for _,row in tqdm(df.iterrows(), total = df.shape[0]):\n",
    "        x = audio2mel(row['path'])\n",
    "        X.append(x.transpose())\n",
    "    X = np.array(X) \n",
    "    return X\n",
    "#os.chdir('/content/drive/MyDrive/DL3/')\n",
    "if os.path.exists('X_train.npy') and os.path.exists('y_train.npy') and os.path.exists('class_names.npy'):\n",
    "  X = np.load('X_train.npy', allow_pickle=True)\n",
    "  y = np.load('y_train.npy', allow_pickle=True)\n",
    "  classess = np.load('class_names.npy', allow_pickle=True)\n",
    "else:\n",
    "  X = convert_wav_to_image(paths)\n",
    "  enc = OneHotEncoder() \n",
    "  y = enc.fit_transform(paths[['label']]).todense()\n",
    "  classes = enc.get_feature_names()\n",
    "  np.save('X_train.npy', X)\n",
    "  np.save('y_train.npy', y)\n",
    "  np.save('class_names.npy', classes)\n",
    "X = (X - np.mean(X))/np.std(X)\n",
    "X_train, X_test, y_train, y_test = train_test_split(X, y, test_size=0.33)"
   ]
  },
  {
   "cell_type": "code",
   "execution_count": 18,
   "metadata": {},
   "outputs": [],
   "source": [
    "model = Sequential()\n",
    "model.add(BatchNormalization())\n",
    "model.add(SimpleRNN(\n",
    "    128,\n",
    "    input_shape=X.shape[1:],\n",
    "    return_sequences=True\n",
    "))\n",
    "model.add(Dropout(0.5))\n",
    "model.add(SimpleRNN(128, return_sequences=True))\n",
    "model.add(Dropout(0.5))\n",
    "model.add(SimpleRNN(128))\n",
    "model.add(Dense(128))\n",
    "model.add(Dropout(0.5))\n",
    "model.add(Dense(y.shape[1]))\n",
    "model.add(Activation('softmax'))\n",
    "\n",
    "model.compile(loss='categorical_crossentropy',\n",
    "              optimizer='adam',\n",
    "              metrics=['accuracy'])"
   ]
  },
  {
   "cell_type": "code",
   "execution_count": 19,
   "metadata": {},
   "outputs": [
    {
     "name": "stdout",
     "output_type": "stream",
     "text": [
      "Epoch 1/30\n",
      "949/949 [==============================] - 45s 41ms/step - loss: 3.6862 - accuracy: 0.0413 - val_loss: 3.4162 - val_accuracy: 0.0447\n",
      "Epoch 2/30\n",
      "949/949 [==============================] - 37s 39ms/step - loss: 3.3937 - accuracy: 0.0545 - val_loss: 3.1752 - val_accuracy: 0.0845\n",
      "Epoch 3/30\n",
      "949/949 [==============================] - 36s 38ms/step - loss: 3.2937 - accuracy: 0.0663 - val_loss: 3.3732 - val_accuracy: 0.0460\n",
      "Epoch 4/30\n",
      "949/949 [==============================] - 37s 39ms/step - loss: 3.3613 - accuracy: 0.0582 - val_loss: 3.4040 - val_accuracy: 0.0561\n",
      "Epoch 5/30\n",
      "949/949 [==============================] - 37s 39ms/step - loss: 3.3440 - accuracy: 0.0559 - val_loss: 3.3303 - val_accuracy: 0.0687\n"
     ]
    }
   ],
   "source": [
    "early_stop = EarlyStopping(monitor='val_loss',patience=3)\n",
    "history = model.fit(X_train, y_train, epochs=30, validation_split = 0.3, callbacks=[early_stop])"
   ]
  },
  {
   "cell_type": "code",
   "execution_count": 20,
   "metadata": {},
   "outputs": [
    {
     "data": {
      "text/plain": [
       "<AxesSubplot:>"
      ]
     },
     "execution_count": 20,
     "metadata": {},
     "output_type": "execute_result"
    },
    {
     "data": {
      "image/png": "[encoded data removed]",
      "text/plain": [
       "<Figure size 432x288 with 1 Axes>"
      ]
     },
     "metadata": {
      "needs_background": "light"
     },
     "output_type": "display_data"
    }
   ],
   "source": [
    "pd.DataFrame(history.history).plot()"
   ]
  },
  {
   "cell_type": "code",
   "execution_count": 21,
   "metadata": {},
   "outputs": [
    {
     "data": {
      "text/plain": [
       "0.06320224719101124"
      ]
     },
     "execution_count": 21,
     "metadata": {},
     "output_type": "execute_result"
    }
   ],
   "source": [
    "def accuracy(model):\n",
    "    p = model.predict(X_test)\n",
    "    return np.mean(np.argmax(p,1) == np.argmax(y_test,1))\n",
    "accuracy(model)"
   ]
  },
  {
   "cell_type": "code",
   "execution_count": 22,
   "metadata": {},
   "outputs": [
    {
     "name": "stdout",
     "output_type": "stream",
     "text": [
      "Epoch 1/30\n",
      "949/949 [==============================] - 55s 51ms/step - loss: 3.7612 - accuracy: 0.0446 - val_loss: 3.3860 - val_accuracy: 0.0512\n",
      "Epoch 2/30\n",
      "949/949 [==============================] - 47s 50ms/step - loss: 3.4943 - accuracy: 0.0468 - val_loss: 3.3627 - val_accuracy: 0.0600\n",
      "Epoch 3/30\n",
      "949/949 [==============================] - 48s 51ms/step - loss: 3.3781 - accuracy: 0.0553 - val_loss: 3.2303 - val_accuracy: 0.0688\n",
      "Epoch 4/30\n",
      "949/949 [==============================] - 49s 52ms/step - loss: 3.4127 - accuracy: 0.0465 - val_loss: 3.2736 - val_accuracy: 0.0617\n",
      "Epoch 5/30\n",
      "949/949 [==============================] - 50s 52ms/step - loss: 3.3062 - accuracy: 0.0624 - val_loss: 3.3847 - val_accuracy: 0.0505\n",
      "Epoch 6/30\n",
      "949/949 [==============================] - 51s 53ms/step - loss: 3.3439 - accuracy: 0.0574 - val_loss: 3.3134 - val_accuracy: 0.0594\n"
     ]
    },
    {
     "data": {
      "text/plain": [
       "0.06259363295880149"
      ]
     },
     "execution_count": 22,
     "metadata": {},
     "output_type": "execute_result"
    },
    {
     "data": {
      "image/png": "[encoded data removed]",
      "text/plain": [
       "<Figure size 432x288 with 1 Axes>"
      ]
     },
     "metadata": {
      "needs_background": "light"
     },
     "output_type": "display_data"
    }
   ],
   "source": [
    "model2 = Sequential()\n",
    "model2.add(BatchNormalization())\n",
    "model2.add(SimpleRNN(\n",
    "    128,\n",
    "    input_shape=X.shape[1:],\n",
    "    return_sequences=True\n",
    "))\n",
    "model2.add(Dropout(0.5))\n",
    "model2.add(SimpleRNN(128, return_sequences=True))\n",
    "model2.add(Dropout(0.5))\n",
    "model2.add(SimpleRNN(256))\n",
    "model2.add(Dense(256))\n",
    "model2.add(Dropout(0.5))\n",
    "model2.add(Dense(y.shape[1]))\n",
    "model2.add(Activation('softmax'))\n",
    "\n",
    "model2.compile(loss='categorical_crossentropy',\n",
    "              optimizer='adam',\n",
    "              metrics=['accuracy'])\n",
    "\n",
    "history2 = model2.fit(X_train, y_train, epochs=30, validation_split = 0.3, callbacks=[early_stop])\n",
    "\n",
    "pd.DataFrame(history2.history).plot()\n",
    "\n",
    "accuracy(model2)"
   ]
  },
  {
   "cell_type": "code",
   "execution_count": 25,
   "metadata": {},
   "outputs": [
    {
     "name": "stdout",
     "output_type": "stream",
     "text": [
      "Epoch 1/30\n",
      "949/949 [==============================] - 82s 79ms/step - loss: 2.4246 - accuracy: 0.2877 - val_loss: 0.6601 - val_accuracy: 0.8062\n",
      "Epoch 2/30\n",
      "949/949 [==============================] - 78s 82ms/step - loss: 0.6235 - accuracy: 0.8164 - val_loss: 0.4564 - val_accuracy: 0.8692\n",
      "Epoch 3/30\n",
      "949/949 [==============================] - 81s 86ms/step - loss: 0.4384 - accuracy: 0.8729 - val_loss: 0.3558 - val_accuracy: 0.8997\n",
      "Epoch 4/30\n",
      "949/949 [==============================] - 81s 85ms/step - loss: 0.3717 - accuracy: 0.8936 - val_loss: 0.3635 - val_accuracy: 0.9017\n",
      "Epoch 5/30\n",
      "949/949 [==============================] - 79s 83ms/step - loss: 0.3289 - accuracy: 0.9053 - val_loss: 0.3092 - val_accuracy: 0.9160\n",
      "Epoch 6/30\n",
      "949/949 [==============================] - 79s 84ms/step - loss: 0.3020 - accuracy: 0.9114 - val_loss: 0.3346 - val_accuracy: 0.9112\n",
      "Epoch 7/30\n",
      "949/949 [==============================] - 79s 83ms/step - loss: 0.2579 - accuracy: 0.9250 - val_loss: 0.3199 - val_accuracy: 0.9206\n",
      "Epoch 8/30\n",
      "949/949 [==============================] - 79s 83ms/step - loss: 0.2532 - accuracy: 0.9269 - val_loss: 0.3107 - val_accuracy: 0.9220\n"
     ]
    },
    {
     "data": {
      "text/plain": [
       "0.9201779026217228"
      ]
     },
     "execution_count": 25,
     "metadata": {},
     "output_type": "execute_result"
    },
    {
     "data": {
      "image/png": "[encoded data removed]",
      "text/plain": [
       "<Figure size 432x288 with 1 Axes>"
      ]
     },
     "metadata": {
      "needs_background": "light"
     },
     "output_type": "display_data"
    }
   ],
   "source": [
    "model_GRU = Sequential()\n",
    "model_GRU.add(BatchNormalization())\n",
    "model_GRU.add(GRU(\n",
    "    128,\n",
    "    input_shape=X.shape[1:],\n",
    "    return_sequences=True\n",
    "))\n",
    "model_GRU.add(Dropout(0.5))\n",
    "model_GRU.add(GRU(128, return_sequences=True))\n",
    "model_GRU.add(Dropout(0.5))\n",
    "model_GRU.add(GRU(256))\n",
    "model_GRU.add(Dense(256))\n",
    "model_GRU.add(Dropout(0.5))\n",
    "model_GRU.add(Dense(y.shape[1]))\n",
    "model_GRU.add(Activation('softmax'))\n",
    "\n",
    "model_GRU.compile(loss='categorical_crossentropy',\n",
    "              optimizer='adam',\n",
    "              metrics=['accuracy'])\n",
    "\n",
    "history_GRU = model_GRU.fit(X_train, y_train, epochs=30, validation_split = 0.3, callbacks=[early_stop])\n",
    "\n",
    "pd.DataFrame(history_GRU.history).plot()\n",
    "\n",
    "accuracy(model_GRU)"
   ]
  },
  {
   "cell_type": "code",
   "execution_count": 26,
   "metadata": {},
   "outputs": [
    {
     "name": "stdout",
     "output_type": "stream",
     "text": [
      "Epoch 1/30\n",
      "949/949 [==============================] - 68s 66ms/step - loss: 2.5894 - accuracy: 0.2407 - val_loss: 0.6787 - val_accuracy: 0.8012\n",
      "Epoch 2/30\n",
      "949/949 [==============================] - 69s 73ms/step - loss: 0.6951 - accuracy: 0.7971 - val_loss: 0.4606 - val_accuracy: 0.8668\n",
      "Epoch 3/30\n",
      "949/949 [==============================] - 63s 66ms/step - loss: 0.4788 - accuracy: 0.8605 - val_loss: 0.3812 - val_accuracy: 0.8951\n",
      "Epoch 4/30\n",
      "949/949 [==============================] - 61s 64ms/step - loss: 0.4014 - accuracy: 0.8846 - val_loss: 0.3526 - val_accuracy: 0.9027\n",
      "Epoch 5/30\n",
      "949/949 [==============================] - 61s 65ms/step - loss: 0.3415 - accuracy: 0.9026 - val_loss: 0.3202 - val_accuracy: 0.9129\n",
      "Epoch 6/30\n",
      "949/949 [==============================] - 64s 67ms/step - loss: 0.3071 - accuracy: 0.9120 - val_loss: 0.3036 - val_accuracy: 0.9171\n",
      "Epoch 7/30\n",
      "949/949 [==============================] - 60s 63ms/step - loss: 0.2687 - accuracy: 0.9231 - val_loss: 0.2983 - val_accuracy: 0.9213\n",
      "Epoch 8/30\n",
      "949/949 [==============================] - 57s 60ms/step - loss: 0.2555 - accuracy: 0.9256 - val_loss: 0.2912 - val_accuracy: 0.9219\n",
      "Epoch 9/30\n",
      "949/949 [==============================] - 57s 61ms/step - loss: 0.2383 - accuracy: 0.9296 - val_loss: 0.2864 - val_accuracy: 0.9249\n",
      "Epoch 10/30\n",
      "949/949 [==============================] - 57s 60ms/step - loss: 0.2296 - accuracy: 0.9336 - val_loss: 0.2994 - val_accuracy: 0.9232\n",
      "Epoch 11/30\n",
      "949/949 [==============================] - 57s 60ms/step - loss: 0.2130 - accuracy: 0.9387 - val_loss: 0.2967 - val_accuracy: 0.9267\n",
      "Epoch 12/30\n",
      "949/949 [==============================] - 57s 61ms/step - loss: 0.2043 - accuracy: 0.9405 - val_loss: 0.2856 - val_accuracy: 0.9295\n",
      "Epoch 13/30\n",
      "949/949 [==============================] - 59s 62ms/step - loss: 0.1940 - accuracy: 0.9444 - val_loss: 0.2741 - val_accuracy: 0.9301\n",
      "Epoch 14/30\n",
      "949/949 [==============================] - 58s 61ms/step - loss: 0.1845 - accuracy: 0.9452 - val_loss: 0.2882 - val_accuracy: 0.9294\n",
      "Epoch 15/30\n",
      "949/949 [==============================] - 58s 61ms/step - loss: 0.1831 - accuracy: 0.9462 - val_loss: 0.3229 - val_accuracy: 0.9228\n",
      "Epoch 16/30\n",
      "949/949 [==============================] - 58s 61ms/step - loss: 0.1887 - accuracy: 0.9455 - val_loss: 0.2683 - val_accuracy: 0.9359\n",
      "Epoch 17/30\n",
      "949/949 [==============================] - 59s 62ms/step - loss: 0.1722 - accuracy: 0.9509 - val_loss: 0.3000 - val_accuracy: 0.9306\n",
      "Epoch 18/30\n",
      "949/949 [==============================] - 57s 60ms/step - loss: 0.1741 - accuracy: 0.9494 - val_loss: 0.2988 - val_accuracy: 0.9308\n",
      "Epoch 19/30\n",
      "949/949 [==============================] - 58s 61ms/step - loss: 0.1633 - accuracy: 0.9526 - val_loss: 0.2937 - val_accuracy: 0.9307\n"
     ]
    },
    {
     "data": {
      "text/plain": [
       "0.9299625468164794"
      ]
     },
     "execution_count": 26,
     "metadata": {},
     "output_type": "execute_result"
    },
    {
     "data": {
      "image/png": "[encoded data removed]",
      "text/plain": [
       "<Figure size 432x288 with 1 Axes>"
      ]
     },
     "metadata": {
      "needs_background": "light"
     },
     "output_type": "display_data"
    }
   ],
   "source": [
    "model_GRU2 = Sequential()\n",
    "model_GRU2.add(BatchNormalization())\n",
    "model_GRU2.add(GRU(\n",
    "    128,\n",
    "    input_shape=X.shape[1:],\n",
    "    return_sequences=True\n",
    "))\n",
    "model_GRU2.add(Dropout(0.5))\n",
    "model_GRU2.add(GRU(128, return_sequences=True))\n",
    "model_GRU2.add(Dropout(0.5))\n",
    "model_GRU2.add(GRU(128))\n",
    "model_GRU2.add(Dense(128))\n",
    "model_GRU2.add(Dropout(0.5))\n",
    "model_GRU2.add(Dense(y.shape[1]))\n",
    "model_GRU2.add(Activation('softmax'))\n",
    "\n",
    "model_GRU2.compile(loss='categorical_crossentropy',\n",
    "              optimizer='adam',\n",
    "              metrics=['accuracy'])\n",
    "\n",
    "history_GRU2 = model_GRU2.fit(X_train, y_train, epochs=30, validation_split = 0.3, callbacks=[early_stop])\n",
    "\n",
    "pd.DataFrame(history_GRU2.history).plot()\n",
    "\n",
    "accuracy(model_GRU2)"
   ]
  }
 ],
 "metadata": {
  "kernelspec": {
   "display_name": "Python 3",
   "language": "python",
   "name": "python3"
  },
  "language_info": {
   "codemirror_mode": {
    "name": "ipython",
    "version": 3
   },
   "file_extension": ".py",
   "mimetype": "text/x-python",
   "name": "python",
   "nbconvert_exporter": "python",
   "pygments_lexer": "ipython3",
   "version": "3.8.5"
  }
 },
 "nbformat": 4,
 "nbformat_minor": 4
}
