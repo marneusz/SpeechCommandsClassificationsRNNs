{
  "nbformat": 4,
  "nbformat_minor": 0,
  "metadata": {
    "colab": {
      "name": "load_data.ipynb",
      "provenance": [],
      "collapsed_sections": [],
      "authorship_tag": "ABX9TyPQzh6Iis53TJxKq+M9Lbot",
      "include_colab_link": true
    },
    "kernelspec": {
      "name": "python3",
      "display_name": "Python 3"
    },
    "language_info": {
      "name": "python"
    }
  },
  "cells": [
    {
      "cell_type": "markdown",
      "metadata": {
        "id": "view-in-github",
        "colab_type": "text"
      },
      "source": [
        "<a href=\"https://colab.research.google.com/github/PaulinaPacyna/DL_speech_recognition/blob/main/load_data.ipynb\" target=\"_parent\"><img src=\"https://colab.research.google.com/assets/colab-badge.svg\" alt=\"Open In Colab\"/></a>"
      ]
    },
    {
      "cell_type": "markdown",
      "metadata": {
        "id": "lkqHae_Gj-gY"
      },
      "source": [
        "You can use this code in your notebook to load the data."
      ]
    },
    {
      "cell_type": "code",
      "metadata": {
        "id": "0vpW_mNnxq6d"
      },
      "source": [
        "%%capture\n",
        "import os\n",
        "import json\n",
        "import zipfile\n",
        "if not os.path.isdir('train'):\n",
        "  !pip install kaggle\n",
        "  !pip install py7zr\n",
        "  import py7zr\n",
        "  !mkdir /root/.kaggle\n",
        "  !touch /root/.kaggle/kaggle.json\n",
        "\n",
        "  api_token = {\"username\":\"paulinapacyna\",\"key\":\"31e4c572f1ddefc96883c2195f33726b\"}\n",
        "  # please don't hold it against me xD\n",
        "\n",
        "  with open('/root/.kaggle/kaggle.json', 'w') as file:\n",
        "      json.dump(api_token, file)\n",
        "\n",
        "  !chmod 600 /root/.kaggle/kaggle.json\n",
        "  !kaggle config path -p /root\n",
        "  !kaggle competitions download -c tensorflow-speech-recognition-challenge\n",
        "  with py7zr.SevenZipFile('train.7z', mode='r') as z:\n",
        "      z.extractall()\n",
        "  with py7zr.SevenZipFile('test.7z', mode='r') as z:\n",
        "      z.extractall()"
      ],
      "execution_count": null,
      "outputs": []
    },
    {
      "cell_type": "code",
      "metadata": {
        "id": "c_ducZzIe3lJ"
      },
      "source": [
        ""
      ],
      "execution_count": 1,
      "outputs": []
    },
    {
      "cell_type": "code",
      "metadata": {
        "id": "J9O9NiqWe-Tt"
      },
      "source": [
        ""
      ],
      "execution_count": 1,
      "outputs": []
    }
  ]
}