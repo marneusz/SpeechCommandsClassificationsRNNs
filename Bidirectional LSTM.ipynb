{
 "cells": [
  {
   "cell_type": "code",
   "execution_count": 1,
   "metadata": {},
   "outputs": [],
   "source": [
    "import librosa\n",
    "import os\n",
    "import json\n",
    "import pickle\n",
    "import zipfile\n",
    "import numpy as np\n",
    "from scipy.fftpack import fft\n",
    "from scipy import signal\n",
    "from scipy.io import wavfile\n",
    "import pandas as pd\n",
    "from tqdm.notebook import tqdm \n",
    "import matplotlib.pyplot as plt\n",
    "import tensorflow as tf\n",
    "from tensorflow.keras import Sequential\n",
    "from tensorflow.keras.layers import LSTM, Dropout, Dense, Activation, BatchNormalization, ConvLSTM2D, Flatten, Bidirectional\n",
    "from keras.layers.convolutional import Conv1D\n",
    "from keras.layers.convolutional import MaxPooling1D\n",
    "from sklearn.preprocessing import OneHotEncoder\n",
    "from sklearn.model_selection import train_test_split\n",
    "from tensorflow.keras.callbacks import EarlyStopping\n",
    "from tensorflow.keras.regularizers import l2, l1"
   ]
  },
  {
   "cell_type": "code",
   "execution_count": 2,
   "metadata": {},
   "outputs": [
    {
     "data": {
      "text/html": [
       "<div>\n",
       "<style scoped>\n",
       "    .dataframe tbody tr th:only-of-type {\n",
       "        vertical-align: middle;\n",
       "    }\n",
       "\n",
       "    .dataframe tbody tr th {\n",
       "        vertical-align: top;\n",
       "    }\n",
       "\n",
       "    .dataframe thead th {\n",
       "        text-align: right;\n",
       "    }\n",
       "</style>\n",
       "<table border=\"1\" class=\"dataframe\">\n",
       "  <thead>\n",
       "    <tr style=\"text-align: right;\">\n",
       "      <th></th>\n",
       "      <th>path</th>\n",
       "      <th>label</th>\n",
       "    </tr>\n",
       "  </thead>\n",
       "  <tbody>\n",
       "    <tr>\n",
       "      <th>0</th>\n",
       "      <td>train/audio\\bed\\00176480_nohash_0.wav</td>\n",
       "      <td>train</td>\n",
       "    </tr>\n",
       "    <tr>\n",
       "      <th>1</th>\n",
       "      <td>train/audio\\bed\\004ae714_nohash_0.wav</td>\n",
       "      <td>train</td>\n",
       "    </tr>\n",
       "    <tr>\n",
       "      <th>2</th>\n",
       "      <td>train/audio\\bed\\004ae714_nohash_1.wav</td>\n",
       "      <td>train</td>\n",
       "    </tr>\n",
       "    <tr>\n",
       "      <th>3</th>\n",
       "      <td>train/audio\\bed\\00f0204f_nohash_0.wav</td>\n",
       "      <td>train</td>\n",
       "    </tr>\n",
       "    <tr>\n",
       "      <th>4</th>\n",
       "      <td>train/audio\\bed\\00f0204f_nohash_1.wav</td>\n",
       "      <td>train</td>\n",
       "    </tr>\n",
       "    <tr>\n",
       "      <th>...</th>\n",
       "      <td>...</td>\n",
       "      <td>...</td>\n",
       "    </tr>\n",
       "    <tr>\n",
       "      <th>64722</th>\n",
       "      <td>train/audio\\_background_noise_\\dude_miaowing.wav</td>\n",
       "      <td>train</td>\n",
       "    </tr>\n",
       "    <tr>\n",
       "      <th>64723</th>\n",
       "      <td>train/audio\\_background_noise_\\exercise_bike.wav</td>\n",
       "      <td>train</td>\n",
       "    </tr>\n",
       "    <tr>\n",
       "      <th>64724</th>\n",
       "      <td>train/audio\\_background_noise_\\pink_noise.wav</td>\n",
       "      <td>train</td>\n",
       "    </tr>\n",
       "    <tr>\n",
       "      <th>64725</th>\n",
       "      <td>train/audio\\_background_noise_\\running_tap.wav</td>\n",
       "      <td>train</td>\n",
       "    </tr>\n",
       "    <tr>\n",
       "      <th>64726</th>\n",
       "      <td>train/audio\\_background_noise_\\white_noise.wav</td>\n",
       "      <td>train</td>\n",
       "    </tr>\n",
       "  </tbody>\n",
       "</table>\n",
       "<p>64727 rows × 2 columns</p>\n",
       "</div>"
      ],
      "text/plain": [
       "                                                   path  label\n",
       "0                 train/audio\\bed\\00176480_nohash_0.wav  train\n",
       "1                 train/audio\\bed\\004ae714_nohash_0.wav  train\n",
       "2                 train/audio\\bed\\004ae714_nohash_1.wav  train\n",
       "3                 train/audio\\bed\\00f0204f_nohash_0.wav  train\n",
       "4                 train/audio\\bed\\00f0204f_nohash_1.wav  train\n",
       "...                                                 ...    ...\n",
       "64722  train/audio\\_background_noise_\\dude_miaowing.wav  train\n",
       "64723  train/audio\\_background_noise_\\exercise_bike.wav  train\n",
       "64724     train/audio\\_background_noise_\\pink_noise.wav  train\n",
       "64725    train/audio\\_background_noise_\\running_tap.wav  train\n",
       "64726    train/audio\\_background_noise_\\white_noise.wav  train\n",
       "\n",
       "[64727 rows x 2 columns]"
      ]
     },
     "execution_count": 2,
     "metadata": {},
     "output_type": "execute_result"
    }
   ],
   "source": [
    "paths = [os.path.join(dp, f) for dp, dn, fn in os.walk('train/audio') for f in fn if f[-4:]=='.wav']\n",
    "paths = pd.DataFrame(paths, columns=['path']) # .sample(n=1000).reset_index(drop=True)\n",
    "paths['label'] = paths['path'].apply(lambda x: x.split('/')[-2])\n",
    "paths"
   ]
  },
  {
   "cell_type": "code",
   "execution_count": 3,
   "metadata": {},
   "outputs": [],
   "source": [
    "def audio2mel(path):\n",
    "    y, sr = librosa.core.load(path=path)\n",
    "    if len(y) > sr: # we set all to have lenght equal to 1 second \n",
    "        y = y[:sr] \n",
    "    else: # pad blank\n",
    "        padding = sr - len(y)\n",
    "        offset = padding // 2 \n",
    "        y = np.pad(y, (offset, sr - len(y) - offset), 'constant')\n",
    "    mel = librosa.feature.melspectrogram(y=y, sr=sr)\n",
    "    return librosa.power_to_db(mel, ref= np.max).astype(np.float) \n",
    "\n",
    "def convert_wav_to_image(df):\n",
    "    X = []\n",
    "    for _,row in tqdm(df.iterrows(), total = df.shape[0]):\n",
    "        x = audio2mel(row['path'])\n",
    "        X.append(x.transpose())\n",
    "    X = np.array(X) \n",
    "    return X\n",
    "#os.chdir('/content/drive/MyDrive/DL3/')\n",
    "if os.path.exists('X_train.npy') and os.path.exists('y_train.npy') and os.path.exists('class_names.npy'):\n",
    "  X = np.load('X_train.npy', allow_pickle=True)\n",
    "  y = np.load('y_train.npy', allow_pickle=True)\n",
    "  classess = np.load('class_names.npy', allow_pickle=True)\n",
    "else:\n",
    "  X = convert_wav_to_image(paths)\n",
    "  enc = OneHotEncoder() \n",
    "  y = enc.fit_transform(paths[['label']]).todense()\n",
    "  classes = enc.get_feature_names()\n",
    "  np.save('X_train.npy', X)\n",
    "  np.save('y_train.npy', y)\n",
    "  np.save('class_names.npy', classes)\n",
    "X = (X - np.mean(X))/np.std(X)\n",
    "X_train, X_test, y_train, y_test = train_test_split(X, y, test_size=0.33)"
   ]
  },
  {
   "cell_type": "code",
   "execution_count": 5,
   "metadata": {},
   "outputs": [],
   "source": [
    "model = Sequential()\n",
    "model.add(BatchNormalization())\n",
    "model.add(Bidirectional(LSTM(\n",
    "    128,\n",
    "    input_shape=X.shape[1:],\n",
    "    return_sequences=True\n",
    ")))\n",
    "model.add(Dropout(0.5))\n",
    "model.add(Bidirectional(LSTM(128, return_sequences=True)))\n",
    "model.add(Dropout(0.5))\n",
    "model.add(Bidirectional(LSTM(128)))\n",
    "model.add(Dense(128))\n",
    "model.add(Dropout(0.5))\n",
    "model.add(Dense(y.shape[1]))\n",
    "model.add(Activation('softmax'))\n",
    "\n",
    "model.compile(loss='categorical_crossentropy',\n",
    "              optimizer='adam',\n",
    "              metrics=['accuracy'])"
   ]
  },
  {
   "cell_type": "code",
   "execution_count": 6,
   "metadata": {},
   "outputs": [
    {
     "name": "stdout",
     "output_type": "stream",
     "text": [
      "Epoch 1/30\n",
      "949/949 [==============================] - 179s 172ms/step - loss: 2.0835 - accuracy: 0.3953 - val_loss: 0.6375 - val_accuracy: 0.8176\n",
      "Epoch 2/30\n",
      "949/949 [==============================] - 207s 218ms/step - loss: 0.6935 - accuracy: 0.8018 - val_loss: 0.4919 - val_accuracy: 0.8531\n",
      "Epoch 3/30\n",
      "949/949 [==============================] - 192s 202ms/step - loss: 0.4850 - accuracy: 0.8599 - val_loss: 0.3840 - val_accuracy: 0.8889\n",
      "Epoch 4/30\n",
      "949/949 [==============================] - 177s 186ms/step - loss: 0.3932 - accuracy: 0.8865 - val_loss: 0.3777 - val_accuracy: 0.8920\n",
      "Epoch 5/30\n",
      "949/949 [==============================] - 205s 216ms/step - loss: 0.3381 - accuracy: 0.9023 - val_loss: 0.3344 - val_accuracy: 0.9072\n",
      "Epoch 6/30\n",
      "949/949 [==============================] - 174s 184ms/step - loss: 0.2942 - accuracy: 0.9143 - val_loss: 0.2886 - val_accuracy: 0.9204\n",
      "Epoch 7/30\n",
      "949/949 [==============================] - 156s 165ms/step - loss: 0.2585 - accuracy: 0.9227 - val_loss: 0.3090 - val_accuracy: 0.9123\n",
      "Epoch 8/30\n",
      "949/949 [==============================] - 174s 184ms/step - loss: 0.2380 - accuracy: 0.9298 - val_loss: 0.2833 - val_accuracy: 0.9192\n",
      "Epoch 9/30\n",
      "949/949 [==============================] - 181s 190ms/step - loss: 0.2079 - accuracy: 0.9374 - val_loss: 0.2833 - val_accuracy: 0.9255\n",
      "Epoch 10/30\n",
      "949/949 [==============================] - 169s 178ms/step - loss: 0.1949 - accuracy: 0.9426 - val_loss: 0.3124 - val_accuracy: 0.9189\n",
      "Epoch 11/30\n",
      "949/949 [==============================] - 164s 173ms/step - loss: 0.2152 - accuracy: 0.9354 - val_loss: 0.2796 - val_accuracy: 0.9250\n",
      "Epoch 12/30\n",
      "949/949 [==============================] - 177s 187ms/step - loss: 0.1643 - accuracy: 0.9511 - val_loss: 0.2957 - val_accuracy: 0.9244\n",
      "Epoch 13/30\n",
      "949/949 [==============================] - 179s 189ms/step - loss: 0.1716 - accuracy: 0.9507 - val_loss: 0.2675 - val_accuracy: 0.9295\n",
      "Epoch 14/30\n",
      "949/949 [==============================] - 143s 151ms/step - loss: 0.1674 - accuracy: 0.9496 - val_loss: 0.2826 - val_accuracy: 0.9268\n",
      "Epoch 15/30\n",
      "949/949 [==============================] - 144s 152ms/step - loss: 0.1575 - accuracy: 0.9534 - val_loss: 0.2831 - val_accuracy: 0.9281\n",
      "Epoch 16/30\n",
      "949/949 [==============================] - 113s 119ms/step - loss: 0.1464 - accuracy: 0.9568 - val_loss: 0.2653 - val_accuracy: 0.9314\n",
      "Epoch 17/30\n",
      "949/949 [==============================] - 104s 110ms/step - loss: 0.1403 - accuracy: 0.9595 - val_loss: 0.2701 - val_accuracy: 0.9325\n",
      "Epoch 18/30\n",
      "949/949 [==============================] - 105s 111ms/step - loss: 0.1240 - accuracy: 0.9637 - val_loss: 0.2853 - val_accuracy: 0.9327\n",
      "Epoch 19/30\n",
      "949/949 [==============================] - 125s 131ms/step - loss: 0.1375 - accuracy: 0.9596 - val_loss: 0.2966 - val_accuracy: 0.9293\n"
     ]
    }
   ],
   "source": [
    "early_stop = EarlyStopping(monitor='val_loss',patience=3)\n",
    "history = model.fit(X_train, y_train, epochs=30, validation_split = 0.3, callbacks=[early_stop])"
   ]
  },
  {
   "cell_type": "code",
   "execution_count": 7,
   "metadata": {},
   "outputs": [
    {
     "data": {
      "text/plain": [
       "<AxesSubplot:>"
      ]
     },
     "execution_count": 7,
     "metadata": {},
     "output_type": "execute_result"
    },
    {
     "data": {
      "image/png": "[encoded data removed]",
      "text/plain": [
       "<Figure size 432x288 with 1 Axes>"
      ]
     },
     "metadata": {
      "needs_background": "light"
     },
     "output_type": "display_data"
    }
   ],
   "source": [
    "pd.DataFrame(history.history).plot()"
   ]
  },
  {
   "cell_type": "code",
   "execution_count": 8,
   "metadata": {},
   "outputs": [
    {
     "data": {
      "text/plain": [
       "0.9318820224719101"
      ]
     },
     "execution_count": 8,
     "metadata": {},
     "output_type": "execute_result"
    }
   ],
   "source": [
    "def accuracy(model):\n",
    "    p = model.predict(X_test)\n",
    "    return np.mean(np.argmax(p,1) == np.argmax(y_test,1))\n",
    "accuracy(model)"
   ]
  },
  {
   "cell_type": "code",
   "execution_count": 9,
   "metadata": {},
   "outputs": [
    {
     "name": "stdout",
     "output_type": "stream",
     "text": [
      "Epoch 1/30\n",
      "949/949 [==============================] - 740s 765ms/step - loss: 1.9593 - accuracy: 0.4408 - val_loss: 0.6088 - val_accuracy: 0.8232\n",
      "Epoch 2/30\n",
      "949/949 [==============================] - 777s 819ms/step - loss: 0.5850 - accuracy: 0.8308 - val_loss: 0.4324 - val_accuracy: 0.8767\n",
      "Epoch 3/30\n",
      "949/949 [==============================] - 768s 810ms/step - loss: 0.4296 - accuracy: 0.8770 - val_loss: 0.3886 - val_accuracy: 0.8861\n",
      "Epoch 4/30\n",
      "949/949 [==============================] - 755s 796ms/step - loss: 0.3311 - accuracy: 0.9028 - val_loss: 0.3611 - val_accuracy: 0.8944\n",
      "Epoch 5/30\n",
      "949/949 [==============================] - 748s 788ms/step - loss: 0.2919 - accuracy: 0.9143 - val_loss: 0.3143 - val_accuracy: 0.9132\n",
      "Epoch 6/30\n",
      "949/949 [==============================] - 747s 787ms/step - loss: 0.2563 - accuracy: 0.9262 - val_loss: 0.3232 - val_accuracy: 0.9085\n",
      "Epoch 7/30\n",
      "949/949 [==============================] - 740s 780ms/step - loss: 0.2314 - accuracy: 0.9291 - val_loss: 0.2749 - val_accuracy: 0.9234\n",
      "Epoch 8/30\n",
      "949/949 [==============================] - 750s 790ms/step - loss: 0.2076 - accuracy: 0.9381 - val_loss: 0.2904 - val_accuracy: 0.9215\n",
      "Epoch 9/30\n",
      "949/949 [==============================] - 754s 794ms/step - loss: 0.2065 - accuracy: 0.9386 - val_loss: 0.2838 - val_accuracy: 0.9253\n",
      "Epoch 10/30\n",
      "949/949 [==============================] - 753s 794ms/step - loss: 0.1852 - accuracy: 0.9455 - val_loss: 0.2845 - val_accuracy: 0.9242\n"
     ]
    },
    {
     "data": {
      "text/plain": [
       "0.9278089887640449"
      ]
     },
     "execution_count": 9,
     "metadata": {},
     "output_type": "execute_result"
    },
    {
     "data": {
      "image/png": "[encoded data removed]",
      "text/plain": [
       "<Figure size 432x288 with 1 Axes>"
      ]
     },
     "metadata": {
      "needs_background": "light"
     },
     "output_type": "display_data"
    }
   ],
   "source": [
    "model2 = Sequential()\n",
    "model2.add(BatchNormalization())\n",
    "model2.add(Bidirectional(LSTM(\n",
    "    128,\n",
    "    input_shape=X.shape[1:],\n",
    "    return_sequences=True\n",
    ")))\n",
    "model2.add(Dropout(0.5))\n",
    "model2.add(Bidirectional(LSTM(256, return_sequences=True)))\n",
    "model2.add(Dropout(0.5))\n",
    "model2.add(Bidirectional(LSTM(512)))\n",
    "model2.add(Dense(256))\n",
    "model2.add(Dropout(0.5))\n",
    "model2.add(Dense(y.shape[1]))\n",
    "model2.add(Activation('softmax'))\n",
    "\n",
    "model2.compile(loss='categorical_crossentropy',\n",
    "              optimizer='adam',\n",
    "              metrics=['accuracy'])\n",
    "\n",
    "history2 = model2.fit(X_train, y_train, epochs=30, validation_split = 0.3, callbacks=[early_stop])\n",
    "\n",
    "pd.DataFrame(history2.history).plot()\n",
    "\n",
    "accuracy(model2)"
   ]
  }
 ],
 "metadata": {
  "kernelspec": {
   "display_name": "Python 3",
   "language": "python",
   "name": "python3"
  },
  "language_info": {
   "codemirror_mode": {
    "name": "ipython",
    "version": 3
   },
   "file_extension": ".py",
   "mimetype": "text/x-python",
   "name": "python",
   "nbconvert_exporter": "python",
   "pygments_lexer": "ipython3",
   "version": "3.8.5"
  }
 },
 "nbformat": 4,
 "nbformat_minor": 4
}
