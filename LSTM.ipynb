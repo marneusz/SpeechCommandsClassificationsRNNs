{
  "nbformat": 4,
  "nbformat_minor": 0,
  "metadata": {
    "colab": {
      "name": "LSTM.ipynb",
      "provenance": [],
      "collapsed_sections": [],
      "machine_shape": "hm",
      "authorship_tag": "ABX9TyMMusSA9I0pcfsj9Pf0OJcI",
      "include_colab_link": true
    },
    "kernelspec": {
      "display_name": "Python 3",
      "name": "python3"
    },
    "language_info": {
      "name": "python"
    },
    "accelerator": "GPU"
  },
  "cells": [
    {
      "cell_type": "markdown",
      "metadata": {
        "id": "view-in-github",
        "colab_type": "text"
      },
      "source": [
        "<a href=\"https://colab.research.google.com/github/PaulinaPacyna/DL_speech_recognition/blob/main/LSTM.ipynb\" target=\"_parent\"><img src=\"https://colab.research.google.com/assets/colab-badge.svg\" alt=\"Open In Colab\"/></a>"
      ]
    },
    {
      "cell_type": "markdown",
      "metadata": {
        "id": "lkqHae_Gj-gY"
      },
      "source": [
        "You can use this code in your notebook to load the data."
      ]
    },
    {
      "cell_type": "code",
      "metadata": {
        "id": "0vpW_mNnxq6d",
        "colab": {
          "base_uri": "https://localhost:8080/"
        },
        "outputId": "1d36bb5a-482f-459b-8d8b-204c8cd12608"
      },
      "source": [
        "import librosa\n",
        "import os\n",
        "import json\n",
        "import pickle\n",
        "import zipfile\n",
        "import numpy as np\n",
        "from scipy.fftpack import fft\n",
        "from scipy import signal\n",
        "from scipy.io import wavfile\n",
        "import pandas as pd\n",
        "from tqdm.notebook import tqdm \n",
        "import matplotlib.pyplot as plt\n",
        "import tensorflow as tf\n",
        "from tensorflow.keras import Sequential\n",
        "from tensorflow.keras.layers import LSTM, Dropout, Dense, Activation, BatchNormalization\n",
        "from sklearn.preprocessing import OneHotEncoder\n",
        "from sklearn.model_selection import train_test_split\n",
        "if not os.path.isdir('train'):\n",
        "  !pip install kaggle\n",
        "  !pip install py7zr\n",
        "  import py7zr\n",
        "  !mkdir /root/.kaggle\n",
        "  !touch /root/.kaggle/kaggle.json\n",
        "\n",
        "  api_token = {\"username\":\"paulinapacyna\",\"key\":\"31e4c572f1ddefc96883c2195f33726b\"}\n",
        "  # please don't hold it against me xD\n",
        "\n",
        "  with open('/root/.kaggle/kaggle.json', 'w') as file:\n",
        "      json.dump(api_token, file)\n",
        "\n",
        "  !chmod 600 /root/.kaggle/kaggle.json\n",
        "  !kaggle config path -p /root\n",
        "  !kaggle competitions download -c tensorflow-speech-recognition-challenge\n",
        "  with py7zr.SevenZipFile('train.7z', mode='r') as z:\n",
        "      z.extractall()\n",
        "  # with py7zr.SevenZipFile('test.7z', mode='r') as z:\n",
        "  #     z.extractall()\n"
      ],
      "execution_count": 1,
      "outputs": [
        {
          "output_type": "stream",
          "text": [
            "Requirement already satisfied: kaggle in /usr/local/lib/python3.7/dist-packages (1.5.12)\n",
            "Requirement already satisfied: python-slugify in /usr/local/lib/python3.7/dist-packages (from kaggle) (5.0.2)\n",
            "Requirement already satisfied: urllib3 in /usr/local/lib/python3.7/dist-packages (from kaggle) (1.24.3)\n",
            "Requirement already satisfied: python-dateutil in /usr/local/lib/python3.7/dist-packages (from kaggle) (2.8.1)\n",
            "Requirement already satisfied: certifi in /usr/local/lib/python3.7/dist-packages (from kaggle) (2020.12.5)\n",
            "Requirement already satisfied: six>=1.10 in /usr/local/lib/python3.7/dist-packages (from kaggle) (1.15.0)\n",
            "Requirement already satisfied: requests in /usr/local/lib/python3.7/dist-packages (from kaggle) (2.23.0)\n",
            "Requirement already satisfied: tqdm in /usr/local/lib/python3.7/dist-packages (from kaggle) (4.41.1)\n",
            "Requirement already satisfied: text-unidecode>=1.3 in /usr/local/lib/python3.7/dist-packages (from python-slugify->kaggle) (1.3)\n",
            "Requirement already satisfied: chardet<4,>=3.0.2 in /usr/local/lib/python3.7/dist-packages (from requests->kaggle) (3.0.4)\n",
            "Requirement already satisfied: idna<3,>=2.5 in /usr/local/lib/python3.7/dist-packages (from requests->kaggle) (2.10)\n",
            "Collecting py7zr\n",
            "\u001b[?25l  Downloading https://files.pythonhosted.org/packages/db/1c/d3e3a80fa8901fc232ec11ec0f2886c7e06cf38f3f40876438ada5659211/py7zr-0.16.1-py3-none-any.whl (65kB)\n",
            "\u001b[K     |████████████████████████████████| 71kB 3.8MB/s \n",
            "\u001b[?25hCollecting brotli>=1.0.9; platform_python_implementation == \"CPython\"\n",
            "\u001b[?25l  Downloading https://files.pythonhosted.org/packages/15/ea/5bd575511b37bbd1c794606a0a621e6feff8e96b7dd007a86a5d218b2d94/Brotli-1.0.9-cp37-cp37m-manylinux1_x86_64.whl (357kB)\n",
            "\u001b[K     |████████████████████████████████| 358kB 10.1MB/s \n",
            "\u001b[?25hCollecting pyppmd>=0.14.0\n",
            "\u001b[?25l  Downloading https://files.pythonhosted.org/packages/5e/25/d8a1f334cb3b84b734b52158233f036c1dd61c8649b90c9a3cd39be9309e/pyppmd-0.15.0-cp37-cp37m-manylinux2014_x86_64.whl (121kB)\n",
            "\u001b[K     |████████████████████████████████| 122kB 14.0MB/s \n",
            "\u001b[?25hCollecting pyzstd<0.15.0,>=0.14.4\n",
            "\u001b[?25l  Downloading https://files.pythonhosted.org/packages/a3/e9/fe897f8bb96163645a5b2d3a60ff8bfa6fcdedff4691a3c6c861b0324ef4/pyzstd-0.14.4-cp37-cp37m-manylinux2014_x86_64.whl (2.2MB)\n",
            "\u001b[K     |████████████████████████████████| 2.2MB 14.4MB/s \n",
            "\u001b[?25hRequirement already satisfied: importlib-metadata; python_version < \"3.8\" in /usr/local/lib/python3.7/dist-packages (from py7zr) (4.0.1)\n",
            "Collecting pycryptodomex>=3.6.6\n",
            "\u001b[?25l  Downloading https://files.pythonhosted.org/packages/e5/9d/99a949925b5fc9604cb65219951fd270ef30d0fd4f064d1b363eb8bb5e9b/pycryptodomex-3.10.1-cp35-abi3-manylinux2010_x86_64.whl (1.9MB)\n",
            "\u001b[K     |████████████████████████████████| 1.9MB 48.0MB/s \n",
            "\u001b[?25hCollecting multivolumefile>=0.2.3\n",
            "  Downloading https://files.pythonhosted.org/packages/22/31/ec5f46fd4c83185b806aa9c736e228cb780f13990a9cf4da0beb70025fcc/multivolumefile-0.2.3-py3-none-any.whl\n",
            "Collecting texttable\n",
            "  Downloading https://files.pythonhosted.org/packages/06/f5/46201c428aebe0eecfa83df66bf3e6caa29659dbac5a56ddfd83cae0d4a4/texttable-1.6.3-py2.py3-none-any.whl\n",
            "Collecting bcj-cffi<0.6.0,>=0.5.1\n",
            "  Downloading https://files.pythonhosted.org/packages/ab/1f/408e7b01375c863e01c25b1475d628deab7c9f85aeb74cced4caa5a512ce/bcj_cffi-0.5.1-cp37-cp37m-manylinux2014_x86_64.whl\n",
            "Requirement already satisfied: typing-extensions>=3.6.4; python_version < \"3.8\" in /usr/local/lib/python3.7/dist-packages (from importlib-metadata; python_version < \"3.8\"->py7zr) (3.7.4.3)\n",
            "Requirement already satisfied: zipp>=0.5 in /usr/local/lib/python3.7/dist-packages (from importlib-metadata; python_version < \"3.8\"->py7zr) (3.4.1)\n",
            "Requirement already satisfied: cffi>=1.14.0 in /usr/local/lib/python3.7/dist-packages (from bcj-cffi<0.6.0,>=0.5.1->py7zr) (1.14.5)\n",
            "Requirement already satisfied: pycparser in /usr/local/lib/python3.7/dist-packages (from cffi>=1.14.0->bcj-cffi<0.6.0,>=0.5.1->py7zr) (2.20)\n",
            "Installing collected packages: brotli, pyppmd, pyzstd, pycryptodomex, multivolumefile, texttable, bcj-cffi, py7zr\n",
            "Successfully installed bcj-cffi-0.5.1 brotli-1.0.9 multivolumefile-0.2.3 py7zr-0.16.1 pycryptodomex-3.10.1 pyppmd-0.15.0 pyzstd-0.14.4 texttable-1.6.3\n",
            "usage: kaggle config [-h] {view,set,unset} ...\n",
            "kaggle config: error: argument command: invalid choice: 'path' (choose from 'view', 'set', 'unset')\n",
            "Warning: Looks like you're using an outdated API Version, please consider updating (server 1.5.12 / client 1.5.4)\n",
            "Downloading train.7z to /content\n",
            " 99% 1.04G/1.04G [00:11<00:00, 124MB/s]\n",
            "100% 1.04G/1.04G [00:11<00:00, 96.5MB/s]\n",
            "Downloading sample_submission.7z to /content\n",
            "  0% 0.00/501k [00:00<?, ?B/s]\n",
            "100% 501k/501k [00:00<00:00, 163MB/s]\n",
            "Downloading test.7z to /content\n",
            " 99% 2.44G/2.46G [00:31<00:00, 54.2MB/s]\n",
            "100% 2.46G/2.46G [00:31<00:00, 83.6MB/s]\n",
            "Downloading link_to_gcp_credits_form.txt to /content\n",
            "  0% 0.00/50.0 [00:00<?, ?B/s]\n",
            "100% 50.0/50.0 [00:00<00:00, 39.9kB/s]\n"
          ],
          "name": "stdout"
        }
      ]
    },
    {
      "cell_type": "code",
      "metadata": {
        "id": "U-LNwcsPh_Gk"
      },
      "source": [
        "from google.colab import drive\n",
        "drive.mount('/content/drive')"
      ],
      "execution_count": null,
      "outputs": []
    },
    {
      "cell_type": "code",
      "metadata": {
        "colab": {
          "base_uri": "https://localhost:8080/",
          "height": 402
        },
        "id": "DcrkhkGM2alZ",
        "outputId": "e5c506a8-219c-4d10-d2df-c5f1c00630f5"
      },
      "source": [
        "paths = [os.path.join(dp, f) for dp, dn, fn in os.walk('train/audio') for f in fn if f[-4:]=='.wav']\n",
        "paths = pd.DataFrame(paths, columns=['path']) # .sample(n=1000).reset_index(drop=True)\n",
        "paths['label'] = paths['path'].apply(lambda x: x.split('/')[-2])\n",
        "paths"
      ],
      "execution_count": 3,
      "outputs": [
        {
          "output_type": "execute_result",
          "data": {
            "text/html": [
              "<div>\n",
              "<style scoped>\n",
              "    .dataframe tbody tr th:only-of-type {\n",
              "        vertical-align: middle;\n",
              "    }\n",
              "\n",
              "    .dataframe tbody tr th {\n",
              "        vertical-align: top;\n",
              "    }\n",
              "\n",
              "    .dataframe thead th {\n",
              "        text-align: right;\n",
              "    }\n",
              "</style>\n",
              "<table border=\"1\" class=\"dataframe\">\n",
              "  <thead>\n",
              "    <tr style=\"text-align: right;\">\n",
              "      <th></th>\n",
              "      <th>path</th>\n",
              "      <th>label</th>\n",
              "    </tr>\n",
              "  </thead>\n",
              "  <tbody>\n",
              "    <tr>\n",
              "      <th>0</th>\n",
              "      <td>train/audio/five/1a073312_nohash_0.wav</td>\n",
              "      <td>five</td>\n",
              "    </tr>\n",
              "    <tr>\n",
              "      <th>1</th>\n",
              "      <td>train/audio/five/c93d5e22_nohash_0.wav</td>\n",
              "      <td>five</td>\n",
              "    </tr>\n",
              "    <tr>\n",
              "      <th>2</th>\n",
              "      <td>train/audio/five/57cb3575_nohash_0.wav</td>\n",
              "      <td>five</td>\n",
              "    </tr>\n",
              "    <tr>\n",
              "      <th>3</th>\n",
              "      <td>train/audio/five/b5552931_nohash_0.wav</td>\n",
              "      <td>five</td>\n",
              "    </tr>\n",
              "    <tr>\n",
              "      <th>4</th>\n",
              "      <td>train/audio/five/187af8be_nohash_0.wav</td>\n",
              "      <td>five</td>\n",
              "    </tr>\n",
              "    <tr>\n",
              "      <th>...</th>\n",
              "      <td>...</td>\n",
              "      <td>...</td>\n",
              "    </tr>\n",
              "    <tr>\n",
              "      <th>64722</th>\n",
              "      <td>train/audio/on/d90b4138_nohash_0.wav</td>\n",
              "      <td>on</td>\n",
              "    </tr>\n",
              "    <tr>\n",
              "      <th>64723</th>\n",
              "      <td>train/audio/on/471a0925_nohash_0.wav</td>\n",
              "      <td>on</td>\n",
              "    </tr>\n",
              "    <tr>\n",
              "      <th>64724</th>\n",
              "      <td>train/audio/on/9d050657_nohash_0.wav</td>\n",
              "      <td>on</td>\n",
              "    </tr>\n",
              "    <tr>\n",
              "      <th>64725</th>\n",
              "      <td>train/audio/on/d0f7bef5_nohash_0.wav</td>\n",
              "      <td>on</td>\n",
              "    </tr>\n",
              "    <tr>\n",
              "      <th>64726</th>\n",
              "      <td>train/audio/on/49af4432_nohash_2.wav</td>\n",
              "      <td>on</td>\n",
              "    </tr>\n",
              "  </tbody>\n",
              "</table>\n",
              "<p>64727 rows × 2 columns</p>\n",
              "</div>"
            ],
            "text/plain": [
              "                                         path label\n",
              "0      train/audio/five/1a073312_nohash_0.wav  five\n",
              "1      train/audio/five/c93d5e22_nohash_0.wav  five\n",
              "2      train/audio/five/57cb3575_nohash_0.wav  five\n",
              "3      train/audio/five/b5552931_nohash_0.wav  five\n",
              "4      train/audio/five/187af8be_nohash_0.wav  five\n",
              "...                                       ...   ...\n",
              "64722    train/audio/on/d90b4138_nohash_0.wav    on\n",
              "64723    train/audio/on/471a0925_nohash_0.wav    on\n",
              "64724    train/audio/on/9d050657_nohash_0.wav    on\n",
              "64725    train/audio/on/d0f7bef5_nohash_0.wav    on\n",
              "64726    train/audio/on/49af4432_nohash_2.wav    on\n",
              "\n",
              "[64727 rows x 2 columns]"
            ]
          },
          "metadata": {
            "tags": []
          },
          "execution_count": 3
        }
      ]
    },
    {
      "cell_type": "code",
      "metadata": {
        "id": "fzcgKegP_5j6"
      },
      "source": [
        "def audio2mel(path):\n",
        "    y, sr = librosa.core.load(path=path)\n",
        "    if len(y) > sr: # we set all to have lenght equal to 1 second \n",
        "        y = y[:sr] \n",
        "    else: # pad blank\n",
        "        padding = sr - len(y)\n",
        "        offset = padding // 2 \n",
        "        y = np.pad(y, (offset, sr - len(y) - offset), 'constant')\n",
        "    mel = librosa.feature.melspectrogram(y=y, sr=sr)\n",
        "    return librosa.power_to_db(mel, ref= np.max).astype(np.float) \n",
        "\n",
        "def convert_wav_to_image(df):\n",
        "    X = []\n",
        "    for _,row in tqdm(df.iterrows(), total = df.shape[0]):\n",
        "        x = audio2mel(row['path'])\n",
        "        X.append(x.transpose())\n",
        "    X = np.array(X) \n",
        "    return X\n",
        "os.chdir('/content/drive/MyDrive/DL3/')\n",
        "if os.path.exists('X_train.npy') and os.path.exists('y_train.npy') and os.path.exists('class_names.npy'):\n",
        "  X = np.load('X_train.npy', allow_pickle=True)\n",
        "  y = np.load('y_train.npy', allow_pickle=True)\n",
        "  classess = np.load('class_names.npy', allow_pickle=True)\n",
        "else:\n",
        "  X = convert_wav_to_image(paths)\n",
        "  enc = OneHotEncoder() \n",
        "  y = enc.fit_transform(paths[['label']]).todense()\n",
        "  classes = enc.get_feature_names()\n",
        "  np.save('X_train.npy', X)\n",
        "  np.save('y_train.npy', y)\n",
        "  np.save('class_names.npy', classes)\n",
        "X = (X - np.mean(X))/np.std(X)\n",
        "X_train, X_test, y_train, y_test = train_test_split(X, y, test_size=0.33)"
      ],
      "execution_count": 28,
      "outputs": []
    },
    {
      "cell_type": "code",
      "metadata": {
        "id": "ry6XoeYze7bT"
      },
      "source": [
        "model = Sequential()\n",
        "model.add(BatchNormalization())\n",
        "model.add(LSTM(\n",
        "    256,\n",
        "    input_shape=X.shape[1:],\n",
        "    return_sequences=True\n",
        "))\n",
        "model.add(Dropout(0.3))\n",
        "model.add(LSTM(512, return_sequences=True))\n",
        "model.add(Dropout(0.3))\n",
        "model.add(LSTM(256))\n",
        "model.add(Dense(256))\n",
        "model.add(Dropout(0.3))\n",
        "model.add(Dense(y.shape[1]))\n",
        "model.add(Activation('softmax'))\n",
        "model.compile(loss='categorical_crossentropy', optimizer='Adam')"
      ],
      "execution_count": 29,
      "outputs": []
    },
    {
      "cell_type": "code",
      "metadata": {
        "colab": {
          "base_uri": "https://localhost:8080/"
        },
        "id": "T8BYv0IqiaoO",
        "outputId": "7f99b6f7-d8af-43d1-b9a9-dfd3fc84233f"
      },
      "source": [
        "model.fit(X_train, y_train, batch_size=100, epochs=10, validation_split=0.3)"
      ],
      "execution_count": 30,
      "outputs": [
        {
          "output_type": "stream",
          "text": [
            "Epoch 1/10\n",
            "304/304 [==============================] - 18s 38ms/step - loss: 1.9955 - val_loss: 0.6805\n",
            "Epoch 2/10\n",
            "304/304 [==============================] - 10s 33ms/step - loss: 0.6330 - val_loss: 0.4829\n",
            "Epoch 3/10\n",
            "304/304 [==============================] - 10s 33ms/step - loss: 0.4252 - val_loss: 0.3929\n",
            "Epoch 4/10\n",
            "304/304 [==============================] - 10s 33ms/step - loss: 0.3214 - val_loss: 0.3497\n",
            "Epoch 5/10\n",
            "304/304 [==============================] - 10s 33ms/step - loss: 0.2654 - val_loss: 0.3303\n",
            "Epoch 6/10\n",
            "304/304 [==============================] - 10s 33ms/step - loss: 0.2356 - val_loss: 0.2986\n",
            "Epoch 7/10\n",
            "304/304 [==============================] - 10s 33ms/step - loss: 0.1870 - val_loss: 0.3006\n",
            "Epoch 8/10\n",
            "304/304 [==============================] - 10s 33ms/step - loss: 0.1688 - val_loss: 0.3212\n",
            "Epoch 9/10\n",
            "304/304 [==============================] - 10s 33ms/step - loss: 0.1594 - val_loss: 0.2763\n",
            "Epoch 10/10\n",
            "304/304 [==============================] - 10s 33ms/step - loss: 0.1389 - val_loss: 0.2740\n"
          ],
          "name": "stdout"
        },
        {
          "output_type": "execute_result",
          "data": {
            "text/plain": [
              "<tensorflow.python.keras.callbacks.History at 0x7fb7e4025590>"
            ]
          },
          "metadata": {
            "tags": []
          },
          "execution_count": 30
        }
      ]
    },
    {
      "cell_type": "code",
      "metadata": {
        "id": "cpu_9LP3jYGF"
      },
      "source": [
        "p = model.predict(X_train)"
      ],
      "execution_count": 31,
      "outputs": []
    },
    {
      "cell_type": "code",
      "metadata": {
        "colab": {
          "base_uri": "https://localhost:8080/"
        },
        "id": "hLJJdlt-lXxW",
        "outputId": "3941e17e-3a5b-4b8e-9f69-6235fabac12c"
      },
      "source": [
        "np.mean(np.argmax(p,1) == np.argmax(y_train,1))"
      ],
      "execution_count": 35,
      "outputs": [
        {
          "output_type": "execute_result",
          "data": {
            "text/plain": [
              "0.9541586920930661"
            ]
          },
          "metadata": {
            "tags": []
          },
          "execution_count": 35
        }
      ]
    },
    {
      "cell_type": "code",
      "metadata": {
        "id": "cOzEIo7NnCI2"
      },
      "source": [
        "y"
      ],
      "execution_count": null,
      "outputs": []
    }
  ]
}